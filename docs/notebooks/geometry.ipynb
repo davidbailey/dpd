{
 "cells": [
  {
   "cell_type": "markdown",
   "id": "c7465649-5a01-4af7-b777-cace08e05726",
   "metadata": {},
   "source": [
    "# Geometry"
   ]
  },
  {
   "cell_type": "markdown",
   "id": "1786ff04-4416-4fb5-9dc0-7486ceda78ee",
   "metadata": {},
   "source": [
    "DPD includes several classes to make dealing with Geometric Objects and TimeSeries Geometric Objects easier: GeometricDict and MovingDict.\n",
    "\n",
    "* GeometricDict is a subclass of UserDict. It contains objects with a .gemetry (Shapely Geometry). A GeometricDict can be converted to a GeoPandas GeoSeries or GeoDataFrame.\n",
    "* MovingDict is a subclass of GeometricDict. It contains objects with a .geometry and a .t (Python DateTime Object). A MovingDict can be converted to a MovingPandas Trajectory.\n",
    "\n",
    "\n",
    "Data Type | Pandas Class | DPD Class\n",
    "----|---|---\n",
    "Time Series Data | Pandas Series, DataFrame | -\n",
    "Geometric Data | GeoPandas GeoSeries, GeoDataFrame | GeometricDict\n",
    "Time Series Geometric Data | MovingPandas Trajectory  | MovingDict       \n"
   ]
  },
  {
   "cell_type": "code",
   "execution_count": null,
   "id": "ccc79579-ea3c-4ba2-b0c6-bde2267be553",
   "metadata": {},
   "outputs": [],
   "source": []
  }
 ],
 "metadata": {
  "kernelspec": {
   "display_name": "Python 3",
   "language": "python",
   "name": "python3"
  },
  "language_info": {
   "codemirror_mode": {
    "name": "ipython",
    "version": 3
   },
   "file_extension": ".py",
   "mimetype": "text/x-python",
   "name": "python",
   "nbconvert_exporter": "python",
   "pygments_lexer": "ipython3",
   "version": "3.9.10"
  }
 },
 "nbformat": 4,
 "nbformat_minor": 5
}
