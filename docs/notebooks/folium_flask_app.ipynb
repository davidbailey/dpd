{
 "cells": [
  {
   "cell_type": "code",
   "execution_count": null,
   "metadata": {},
   "outputs": [],
   "source": [
    "import webbrowser\n",
    "from werkzeug.serving import run_simple\n",
    "\n",
    "from dpd.folium import folium_flask_app\n",
    "\n",
    "hostname = \"localhost\"\n",
    "port = 9000\n",
    "\n",
    "app = folium_flask_app()\n",
    "webbrowser.open('http://' + hostname + ':' + str(port))\n",
    "run_simple(hostname, port, app)"
   ]
  }
 ],
 "metadata": {
  "kernelspec": {
   "display_name": "Python 3",
   "language": "python",
   "name": "python3"
  },
  "language_info": {
   "codemirror_mode": {
    "name": "ipython",
    "version": 3
   },
   "file_extension": ".py",
   "mimetype": "text/x-python",
   "name": "python",
   "nbconvert_exporter": "python",
   "pygments_lexer": "ipython3",
   "version": "3.7.5"
  }
 },
 "nbformat": 4,
 "nbformat_minor": 4
}
