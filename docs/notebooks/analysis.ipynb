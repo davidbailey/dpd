{
 "cells": [
  {
   "cell_type": "markdown",
   "metadata": {
    "tags": []
   },
   "source": [
    "# Analysis"
   ]
  },
  {
   "cell_type": "markdown",
   "metadata": {},
   "source": [
    "There are two classes for analysis: Alternative which provides methods for a [Cost Benefit Analysis](https://en.wikipedia.org/wiki/Cost–benefit_analysis) and Decision which provides methods for a [Multiple Criteria Analysis](https://en.wikipedia.org/wiki/Multiple-criteria_decision_analysis). The Timeline class generates a [Gantt Chart](https://en.wikipedia.org/wiki/Gantt_chart)."
   ]
  },
  {
   "cell_type": "markdown",
   "metadata": {},
   "source": [
    "## Cost Benefit Analysis"
   ]
  },
  {
   "cell_type": "code",
   "execution_count": 1,
   "metadata": {},
   "outputs": [
    {
     "data": {
      "text/html": [
       "<div>\n",
       "<style scoped>\n",
       "    .dataframe tbody tr th:only-of-type {\n",
       "        vertical-align: middle;\n",
       "    }\n",
       "\n",
       "    .dataframe tbody tr th {\n",
       "        vertical-align: top;\n",
       "    }\n",
       "\n",
       "    .dataframe thead th {\n",
       "        text-align: right;\n",
       "    }\n",
       "</style>\n",
       "<table border=\"1\" class=\"dataframe\">\n",
       "  <thead>\n",
       "    <tr style=\"text-align: right;\">\n",
       "      <th></th>\n",
       "      <th>Start</th>\n",
       "      <th>End</th>\n",
       "      <th>Cost</th>\n",
       "      <th>Benefit</th>\n",
       "    </tr>\n",
       "  </thead>\n",
       "  <tbody>\n",
       "    <tr>\n",
       "      <th>Planning</th>\n",
       "      <td>2005-01-01</td>\n",
       "      <td>2009-12-31</td>\n",
       "      <td>100.0 USD</td>\n",
       "      <td>0.0 USD</td>\n",
       "    </tr>\n",
       "    <tr>\n",
       "      <th>Construction</th>\n",
       "      <td>2010-01-01</td>\n",
       "      <td>2014-12-31</td>\n",
       "      <td>100.0 USD</td>\n",
       "      <td>0.0 USD</td>\n",
       "    </tr>\n",
       "    <tr>\n",
       "      <th>Operations</th>\n",
       "      <td>2014-12-31</td>\n",
       "      <td>2034-12-30</td>\n",
       "      <td>0.0 USD</td>\n",
       "      <td>400.0 USD</td>\n",
       "    </tr>\n",
       "  </tbody>\n",
       "</table>\n",
       "</div>"
      ],
      "text/plain": [
       "                  Start        End       Cost    Benefit\n",
       "Planning     2005-01-01 2009-12-31  100.0 USD    0.0 USD\n",
       "Construction 2010-01-01 2014-12-31  100.0 USD    0.0 USD\n",
       "Operations   2014-12-31 2034-12-30    0.0 USD  400.0 USD"
      ]
     },
     "execution_count": 1,
     "metadata": {},
     "output_type": "execute_result"
    }
   ],
   "source": [
    "from datetime import datetime, timedelta\n",
    "from dpd.analysis import Activity, Alternative, Currency\n",
    "\n",
    "USD = Currency(\"USD\", 2020, 0.07).discount()\n",
    "\n",
    "a1 = Alternative(name=\"Alternative One\")\n",
    "planning = Activity(\n",
    "    \"Planning\", datetime(2005, 1, 1), datetime(2009, 12, 31), 100 * USD, 0 * USD\n",
    ")\n",
    "construction = Activity(\n",
    "    \"Construction\", datetime(2010, 1, 1), datetime(2014, 12, 31), 100 * USD, 0 * USD\n",
    ")\n",
    "operations = Activity(\n",
    "    \"Operations\",\n",
    "    construction.End,\n",
    "    construction.End + timedelta(days=365 * 20 + 4),\n",
    "    0 * USD,\n",
    "    400 * USD,\n",
    ")\n",
    "\n",
    "for activity in [planning, construction, operations]:\n",
    "    a1.add_activity(activity)\n",
    "\n",
    "a1"
   ]
  },
  {
   "cell_type": "code",
   "execution_count": 2,
   "metadata": {},
   "outputs": [
    {
     "data": {
      "text/latex": [
       "$2 \\; \\mathrm{}$"
      ],
      "text/plain": [
       "<Quantity 2.>"
      ]
     },
     "execution_count": 2,
     "metadata": {},
     "output_type": "execute_result"
    }
   ],
   "source": [
    "a1.benefit_cost_ratio"
   ]
  },
  {
   "cell_type": "code",
   "execution_count": 3,
   "metadata": {},
   "outputs": [
    {
     "data": {
      "text/html": [
       "<div>\n",
       "<style scoped>\n",
       "    .dataframe tbody tr th:only-of-type {\n",
       "        vertical-align: middle;\n",
       "    }\n",
       "\n",
       "    .dataframe tbody tr th {\n",
       "        vertical-align: top;\n",
       "    }\n",
       "\n",
       "    .dataframe thead tr th {\n",
       "        text-align: left;\n",
       "    }\n",
       "</style>\n",
       "<table border=\"1\" class=\"dataframe\">\n",
       "  <thead>\n",
       "    <tr>\n",
       "      <th></th>\n",
       "      <th colspan=\"3\" halign=\"left\">Cost</th>\n",
       "      <th colspan=\"3\" halign=\"left\">Benefit</th>\n",
       "    </tr>\n",
       "    <tr>\n",
       "      <th></th>\n",
       "      <th>Planning</th>\n",
       "      <th>Construction</th>\n",
       "      <th>Operations</th>\n",
       "      <th>Planning</th>\n",
       "      <th>Construction</th>\n",
       "      <th>Operations</th>\n",
       "    </tr>\n",
       "  </thead>\n",
       "  <tbody>\n",
       "    <tr>\n",
       "      <th>2005</th>\n",
       "      <td>20.0 USD</td>\n",
       "      <td>NaN</td>\n",
       "      <td>NaN</td>\n",
       "      <td>0.0 USD</td>\n",
       "      <td>NaN</td>\n",
       "      <td>NaN</td>\n",
       "    </tr>\n",
       "    <tr>\n",
       "      <th>2006</th>\n",
       "      <td>20.0 USD</td>\n",
       "      <td>NaN</td>\n",
       "      <td>NaN</td>\n",
       "      <td>0.0 USD</td>\n",
       "      <td>NaN</td>\n",
       "      <td>NaN</td>\n",
       "    </tr>\n",
       "    <tr>\n",
       "      <th>2007</th>\n",
       "      <td>20.0 USD</td>\n",
       "      <td>NaN</td>\n",
       "      <td>NaN</td>\n",
       "      <td>0.0 USD</td>\n",
       "      <td>NaN</td>\n",
       "      <td>NaN</td>\n",
       "    </tr>\n",
       "    <tr>\n",
       "      <th>2008</th>\n",
       "      <td>20.0 USD</td>\n",
       "      <td>NaN</td>\n",
       "      <td>NaN</td>\n",
       "      <td>0.0 USD</td>\n",
       "      <td>NaN</td>\n",
       "      <td>NaN</td>\n",
       "    </tr>\n",
       "    <tr>\n",
       "      <th>2009</th>\n",
       "      <td>20.0 USD</td>\n",
       "      <td>NaN</td>\n",
       "      <td>NaN</td>\n",
       "      <td>0.0 USD</td>\n",
       "      <td>NaN</td>\n",
       "      <td>NaN</td>\n",
       "    </tr>\n",
       "  </tbody>\n",
       "</table>\n",
       "</div>"
      ],
      "text/plain": [
       "          Cost                          Benefit                        \n",
       "      Planning Construction Operations Planning Construction Operations\n",
       "2005  20.0 USD          NaN        NaN  0.0 USD          NaN        NaN\n",
       "2006  20.0 USD          NaN        NaN  0.0 USD          NaN        NaN\n",
       "2007  20.0 USD          NaN        NaN  0.0 USD          NaN        NaN\n",
       "2008  20.0 USD          NaN        NaN  0.0 USD          NaN        NaN\n",
       "2009  20.0 USD          NaN        NaN  0.0 USD          NaN        NaN"
      ]
     },
     "execution_count": 3,
     "metadata": {},
     "output_type": "execute_result"
    }
   ],
   "source": [
    "a1.period_range_pivot().head()"
   ]
  },
  {
   "cell_type": "code",
   "execution_count": 4,
   "metadata": {},
   "outputs": [
    {
     "data": {
      "image/png": "[encoded data removed]",
      "text/plain": [
       "<Figure size 432x288 with 1 Axes>"
      ]
     },
     "metadata": {
      "needs_background": "light"
     },
     "output_type": "display_data"
    }
   ],
   "source": [
    "from matplotlib import pyplot as plt\n",
    "\n",
    "fig, ax = plt.subplots()\n",
    "\n",
    "a1.cash_flow_diagram(ax=ax)\n",
    "ax.get_legend().remove()"
   ]
  },
  {
   "cell_type": "markdown",
   "metadata": {},
   "source": [
    "## Timeline"
   ]
  },
  {
   "cell_type": "code",
   "execution_count": 5,
   "metadata": {},
   "outputs": [
    {
     "data": {
      "image/png": "[encoded data removed]",
      "text/plain": [
       "<Figure size 432x288 with 1 Axes>"
      ]
     },
     "metadata": {
      "needs_background": "light"
     },
     "output_type": "display_data"
    }
   ],
   "source": [
    "from dpd.analysis import Timeline\n",
    "\n",
    "t = Timeline()\n",
    "for activity in [planning, construction, operations]:\n",
    "    t.add_activity(activity)\n",
    "\n",
    "fig, ax = plt.subplots()\n",
    "t.plot_gantt(ax=ax)\n",
    "plt.show()"
   ]
  },
  {
   "cell_type": "code",
   "execution_count": 6,
   "metadata": {},
   "outputs": [
    {
     "data": {
      "image/png": "[encoded data removed]",
      "text/plain": [
       "<Figure size 432x288 with 1 Axes>"
      ]
     },
     "metadata": {
      "needs_background": "light"
     },
     "output_type": "display_data"
    }
   ],
   "source": [
    "fig, ax = plt.subplots()\n",
    "a1.timeline.plot_gantt(ax=ax)\n",
    "plt.show()"
   ]
  },
  {
   "cell_type": "markdown",
   "metadata": {
    "tags": []
   },
   "source": [
    "## Decision"
   ]
  },
  {
   "cell_type": "code",
   "execution_count": 7,
   "metadata": {},
   "outputs": [
    {
     "data": {
      "text/html": [
       "<div>\n",
       "<style scoped>\n",
       "    .dataframe tbody tr th:only-of-type {\n",
       "        vertical-align: middle;\n",
       "    }\n",
       "\n",
       "    .dataframe tbody tr th {\n",
       "        vertical-align: top;\n",
       "    }\n",
       "\n",
       "    .dataframe thead th {\n",
       "        text-align: right;\n",
       "    }\n",
       "</style>\n",
       "<table border=\"1\" class=\"dataframe\">\n",
       "  <thead>\n",
       "    <tr style=\"text-align: right;\">\n",
       "      <th></th>\n",
       "      <th>Travel Time</th>\n",
       "      <th>Distance</th>\n",
       "      <th>Some Cost</th>\n",
       "    </tr>\n",
       "  </thead>\n",
       "  <tbody>\n",
       "    <tr>\n",
       "      <th>No Build Alternative</th>\n",
       "      <td>200.0 s</td>\n",
       "      <td>200.0 m</td>\n",
       "      <td>0.0 USD</td>\n",
       "    </tr>\n",
       "    <tr>\n",
       "      <th>Alternative 1</th>\n",
       "      <td>124.0 s</td>\n",
       "      <td>200.0 m</td>\n",
       "      <td>100.0 USD</td>\n",
       "    </tr>\n",
       "    <tr>\n",
       "      <th>Alternative 2</th>\n",
       "      <td>133.0 s</td>\n",
       "      <td>200.0 m</td>\n",
       "      <td>200.0 USD</td>\n",
       "    </tr>\n",
       "  </tbody>\n",
       "</table>\n",
       "</div>"
      ],
      "text/plain": [
       "                     Travel Time Distance  Some Cost\n",
       "No Build Alternative     200.0 s  200.0 m    0.0 USD\n",
       "Alternative 1            124.0 s  200.0 m  100.0 USD\n",
       "Alternative 2            133.0 s  200.0 m  200.0 USD"
      ]
     },
     "execution_count": 7,
     "metadata": {},
     "output_type": "execute_result"
    }
   ],
   "source": [
    "from datetime import datetime\n",
    "from random import randint\n",
    "\n",
    "from astropy import units\n",
    "\n",
    "from dpd.analysis import Alternative, Currency, Decision\n",
    "from dpd.analysis.criteria import AttributeCriterion, CostCriterion, Criterion\n",
    "\n",
    "USD = Currency(\"USD\", 2020, 0.07).discount()\n",
    "decision = Decision()\n",
    "\n",
    "no_build_alternative = Alternative(\"No Build Alternative\")\n",
    "no_build_alternative.some_cost = 0 * USD\n",
    "alternative_one = Alternative(\"Alternative 1\")\n",
    "alternative_one.some_cost = 100 * USD\n",
    "alternative_two = Alternative(\"Alternative 2\")\n",
    "alternative_two.some_cost = 200 * USD\n",
    "\n",
    "\n",
    "@property\n",
    "def travel_time(self):\n",
    "    return randint(100, 200) * units.second\n",
    "\n",
    "\n",
    "setattr(Alternative, \"travel_time\", travel_time)\n",
    "\n",
    "decision.add_criterion(AttributeCriterion(\"Travel Time\", weight=1 / units.second))\n",
    "decision.add_criterion(\n",
    "    Criterion(\"Distance\", lambda x: 200 * units.meter, weight=1 / units.meter)\n",
    ")\n",
    "decision.add_criterion(AttributeCriterion(\"Some Cost\", weight=1 / USD))\n",
    "\n",
    "for alternative in [no_build_alternative, alternative_one, alternative_two]:\n",
    "    decision.add_alternative(alternative)\n",
    "\n",
    "decision"
   ]
  },
  {
   "cell_type": "code",
   "execution_count": 8,
   "metadata": {},
   "outputs": [
    {
     "data": {
      "text/plain": [
       "<AxesSubplot:>"
      ]
     },
     "execution_count": 8,
     "metadata": {},
     "output_type": "execute_result"
    },
    {
     "data": {
      "image/png": "[encoded data removed]",
      "text/plain": [
       "<Figure size 432x288 with 1 Axes>"
      ]
     },
     "metadata": {
      "needs_background": "light"
     },
     "output_type": "display_data"
    }
   ],
   "source": [
    "decision.plot(kind=\"bar\")"
   ]
  },
  {
   "cell_type": "code",
   "execution_count": 9,
   "metadata": {},
   "outputs": [
    {
     "data": {
      "text/plain": [
       "<AxesSubplot:>"
      ]
     },
     "execution_count": 9,
     "metadata": {},
     "output_type": "execute_result"
    },
    {
     "data": {
      "image/png": "[encoded data removed]",
      "text/plain": [
       "<Figure size 432x288 with 1 Axes>"
      ]
     },
     "metadata": {
      "needs_background": "light"
     },
     "output_type": "display_data"
    }
   ],
   "source": [
    "decision.multiple_criteria_decision_analysis().plot(kind=\"bar\")"
   ]
  },
  {
   "cell_type": "code",
   "execution_count": null,
   "metadata": {},
   "outputs": [],
   "source": []
  }
 ],
 "metadata": {
  "kernelspec": {
   "display_name": "Python 3",
   "language": "python",
   "name": "python3"
  },
  "language_info": {
   "codemirror_mode": {
    "name": "ipython",
    "version": 3
   },
   "file_extension": ".py",
   "mimetype": "text/x-python",
   "name": "python",
   "nbconvert_exporter": "python",
   "pygments_lexer": "ipython3",
   "version": "3.9.10"
  }
 },
 "nbformat": 4,
 "nbformat_minor": 4
}
