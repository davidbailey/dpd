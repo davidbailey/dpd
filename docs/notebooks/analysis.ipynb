{
 "cells": [
  {
   "cell_type": "markdown",
   "metadata": {
    "tags": []
   },
   "source": [
    "# Analysis"
   ]
  },
  {
   "cell_type": "markdown",
   "metadata": {},
   "source": [
    "There are two classes for performing an analysis: Cost Benefit Analysis and Multiple Criteria Analysis. "
   ]
  },
  {
   "cell_type": "markdown",
   "metadata": {},
   "source": [
    "## Cost Benefit Analysis"
   ]
  },
  {
   "cell_type": "code",
   "execution_count": null,
   "metadata": {},
   "outputs": [],
   "source": [
    "from dpd.analysis import CostBenefitAnalysis"
   ]
  },
  {
   "cell_type": "code",
   "execution_count": 2,
   "metadata": {},
   "outputs": [],
   "source": [
    "discount_rate = 0.03\n",
    "start_year = 2017\n",
    "duration = 3  # years"
   ]
  },
  {
   "cell_type": "code",
   "execution_count": 3,
   "metadata": {},
   "outputs": [
    {
     "name": "stdout",
     "output_type": "stream",
     "text": [
      "Benefit-cost ratio:  1.9417475728155342\n"
     ]
    },
    {
     "data": {
      "text/html": [
       "<div>\n",
       "<style scoped>\n",
       "    .dataframe tbody tr th:only-of-type {\n",
       "        vertical-align: middle;\n",
       "    }\n",
       "\n",
       "    .dataframe tbody tr th {\n",
       "        vertical-align: top;\n",
       "    }\n",
       "\n",
       "    .dataframe thead th {\n",
       "        text-align: right;\n",
       "    }\n",
       "</style>\n",
       "<table border=\"1\" class=\"dataframe\">\n",
       "  <thead>\n",
       "    <tr style=\"text-align: right;\">\n",
       "      <th></th>\n",
       "      <th>2017</th>\n",
       "      <th>2018</th>\n",
       "      <th>2019</th>\n",
       "      <th>Sum</th>\n",
       "    </tr>\n",
       "  </thead>\n",
       "  <tbody>\n",
       "    <tr>\n",
       "      <th>cost 1</th>\n",
       "      <td>10.0</td>\n",
       "      <td>9.708738</td>\n",
       "      <td>0.000000</td>\n",
       "      <td>19.708738</td>\n",
       "    </tr>\n",
       "    <tr>\n",
       "      <th>cost 2</th>\n",
       "      <td>10.0</td>\n",
       "      <td>9.708738</td>\n",
       "      <td>0.000000</td>\n",
       "      <td>19.708738</td>\n",
       "    </tr>\n",
       "    <tr>\n",
       "      <th>Costs Total</th>\n",
       "      <td>20.0</td>\n",
       "      <td>19.417476</td>\n",
       "      <td>0.000000</td>\n",
       "      <td>39.417476</td>\n",
       "    </tr>\n",
       "    <tr>\n",
       "      <th>benefit 1</th>\n",
       "      <td>0.0</td>\n",
       "      <td>19.417476</td>\n",
       "      <td>18.851918</td>\n",
       "      <td>38.269394</td>\n",
       "    </tr>\n",
       "    <tr>\n",
       "      <th>benefit 2</th>\n",
       "      <td>0.0</td>\n",
       "      <td>19.417476</td>\n",
       "      <td>18.851918</td>\n",
       "      <td>38.269394</td>\n",
       "    </tr>\n",
       "    <tr>\n",
       "      <th>Benefits Total</th>\n",
       "      <td>0.0</td>\n",
       "      <td>38.834951</td>\n",
       "      <td>37.703836</td>\n",
       "      <td>76.538788</td>\n",
       "    </tr>\n",
       "    <tr>\n",
       "      <th>Benefits - Costs Total</th>\n",
       "      <td>-20.0</td>\n",
       "      <td>19.417476</td>\n",
       "      <td>37.703836</td>\n",
       "      <td>37.121312</td>\n",
       "    </tr>\n",
       "  </tbody>\n",
       "</table>\n",
       "</div>"
      ],
      "text/plain": [
       "                        2017       2018       2019        Sum\n",
       "cost 1                  10.0   9.708738   0.000000  19.708738\n",
       "cost 2                  10.0   9.708738   0.000000  19.708738\n",
       "Costs Total             20.0  19.417476   0.000000  39.417476\n",
       "benefit 1                0.0  19.417476  18.851918  38.269394\n",
       "benefit 2                0.0  19.417476  18.851918  38.269394\n",
       "Benefits Total           0.0  38.834951  37.703836  76.538788\n",
       "Benefits - Costs Total -20.0  19.417476  37.703836  37.121312"
      ]
     },
     "execution_count": 3,
     "metadata": {},
     "output_type": "execute_result"
    }
   ],
   "source": [
    "cba = CostBenefitAnalysis(start_year=start_year, duration=duration)\n",
    "cba.add_cost(name=\"cost 1\", value=10, start_year=start_year, duration=2)\n",
    "cba.add_cost(name=\"cost 2\", value=10, start_year=start_year, duration=2)\n",
    "cba.add_benefit(name=\"benefit 1\", value=20, start_year=start_year + 1, duration=2)\n",
    "cba.add_benefit(name=\"benefit 2\", value=20, start_year=start_year + 1, duration=2)\n",
    "\n",
    "# cba_table = cba.to_dataframe().T # in year of expenditure\n",
    "cba_table = cba.discount(start_year, discount_rate).T\n",
    "print(\n",
    "    \"Benefit-cost ratio: \",\n",
    "    cba_table[\"Sum\"][\"Benefits Total\"] / cba_table[\"Sum\"][\"Costs Total\"],\n",
    ")\n",
    "cba_table"
   ]
  },
  {
   "cell_type": "markdown",
   "metadata": {
    "tags": []
   },
   "source": [
    "## Multiple-criteria Analysis"
   ]
  },
  {
   "cell_type": "code",
   "execution_count": 1,
   "metadata": {},
   "outputs": [],
   "source": [
    "from dpd.analysis import MultipleCriteriaAnalysis\n",
    "from dpd.d3 import radar_chart\n",
    "from IPython.core.display import HTML"
   ]
  },
  {
   "cell_type": "code",
   "execution_count": 6,
   "metadata": {},
   "outputs": [
    {
     "data": {
      "text/html": [
       "<div>\n",
       "<style scoped>\n",
       "    .dataframe tbody tr th:only-of-type {\n",
       "        vertical-align: middle;\n",
       "    }\n",
       "\n",
       "    .dataframe tbody tr th {\n",
       "        vertical-align: top;\n",
       "    }\n",
       "\n",
       "    .dataframe thead th {\n",
       "        text-align: right;\n",
       "    }\n",
       "</style>\n",
       "<table border=\"1\" class=\"dataframe\">\n",
       "  <thead>\n",
       "    <tr style=\"text-align: right;\">\n",
       "      <th></th>\n",
       "      <th>Tram</th>\n",
       "      <th>Bus</th>\n",
       "    </tr>\n",
       "  </thead>\n",
       "  <tbody>\n",
       "    <tr>\n",
       "      <th>Cost</th>\n",
       "      <td>200.0</td>\n",
       "      <td>100.0</td>\n",
       "    </tr>\n",
       "    <tr>\n",
       "      <th>Time</th>\n",
       "      <td>50.0</td>\n",
       "      <td>100.0</td>\n",
       "    </tr>\n",
       "    <tr>\n",
       "      <th>Comfort</th>\n",
       "      <td>800.0</td>\n",
       "      <td>500.0</td>\n",
       "    </tr>\n",
       "  </tbody>\n",
       "</table>\n",
       "</div>"
      ],
      "text/plain": [
       "          Tram    Bus\n",
       "Cost     200.0  100.0\n",
       "Time      50.0  100.0\n",
       "Comfort  800.0  500.0"
      ]
     },
     "execution_count": 6,
     "metadata": {},
     "output_type": "execute_result"
    }
   ],
   "source": [
    "attributes = [\"Cost\", \"Time\", \"Comfort\"]\n",
    "alternatives = [\"Tram\", \"Bus\"]\n",
    "\n",
    "mca = MultipleCriteriaAnalysis(attributes, alternatives)\n",
    "mca.mca[\"Tram\"][\"Cost\"] = 200\n",
    "mca.mca[\"Bus\"][\"Cost\"] = 100\n",
    "mca.mca[\"Tram\"][\"Time\"] = 50\n",
    "mca.mca[\"Bus\"][\"Time\"] = 100\n",
    "mca.mca[\"Tram\"][\"Comfort\"] = 800\n",
    "mca.mca[\"Bus\"][\"Comfort\"] = 500\n",
    "\n",
    "mca.mca"
   ]
  },
  {
   "cell_type": "code",
   "execution_count": 7,
   "metadata": {},
   "outputs": [
    {
     "data": {
      "text/html": [
       "\n",
       "    <script src=\"https://d3js.org/d3.v3.min.js\"></script>\n",
       "    <script src=\"https://cdn.jsdelivr.net/gh/davidbailey/dpd@master/js/RadarChart.js\"></script>\n",
       "    <div id=\"body\">\n",
       "        <div id=\"chart\"></div>\n",
       "    </div>\n",
       "    <script>\n",
       "        var w = 500, h = 500;\n",
       "        var colorscale = d3.scale.category10();\n",
       "        var LegendOptions = [\"Tram\", \"Bus\"];\n",
       "        var d = [[{\"axis\": \"Cost\", \"value\": 0.6666666666666666}, {\"axis\": \"Time\", \"value\": 0.3333333333333333}, {\"axis\": \"Comfort\", \"value\": 0.6153846153846154}], [{\"axis\": \"Cost\", \"value\": 0.3333333333333333}, {\"axis\": \"Time\", \"value\": 0.6666666666666666}, {\"axis\": \"Comfort\", \"value\": 0.38461538461538464}]];\n",
       "\n",
       "        RadarChart.draw(\"#chart\", d);\n",
       "\n",
       "        var svg = d3.select('#body')\n",
       "            .selectAll('svg')\n",
       "            .append('svg')\n",
       "            .attr(\"width\", w+300)\n",
       "            .attr(\"height\", h)\n",
       "        var text = svg.append(\"text\")\n",
       "            .attr(\"class\", \"title\")\n",
       "            .attr('transform', 'translate(90,0)')\n",
       "            .attr(\"x\", w - 70)\n",
       "            .attr(\"y\", 10)\n",
       "            .attr(\"font-size\", \"12px\")\n",
       "            .attr(\"fill\", \"#404040\")\n",
       "            .text(\"Alternative\");\n",
       "        var legend = svg.append(\"g\")\n",
       "            .attr(\"class\", \"legend\")\n",
       "            .attr(\"height\", 100)\n",
       "            .attr(\"width\", 200)\n",
       "            .attr('transform', 'translate(90,20)');\n",
       "        legend.selectAll('rect')\n",
       "            .data(LegendOptions)\n",
       "            .enter()\n",
       "            .append(\"rect\")\n",
       "            .attr(\"x\", w - 65)\n",
       "            .attr(\"y\", function(d, i){ return i * 20;})\n",
       "            .attr(\"width\", 10)\n",
       "            .attr(\"height\", 10)\n",
       "            .style(\"fill\", function(d, i){ return colorscale(i);});\n",
       "        legend.selectAll('text')\n",
       "            .data(LegendOptions)\n",
       "            .enter()\n",
       "            .append(\"text\")\n",
       "            .attr(\"x\", w - 52)\n",
       "            .attr(\"y\", function(d, i){ return i * 20 + 9;})\n",
       "            .attr(\"font-size\", \"11px\")\n",
       "            .attr(\"fill\", \"#737373\")\n",
       "            .text(function(d) { return d; });\n",
       "    </script>\n",
       "    "
      ],
      "text/plain": [
       "<IPython.core.display.HTML object>"
      ]
     },
     "execution_count": 7,
     "metadata": {},
     "output_type": "execute_result"
    }
   ],
   "source": [
    "legend_options, d, title = mca.to_d3_radar_chart()\n",
    "HTML(radar_chart(legend_options, d, title))"
   ]
  }
 ],
 "metadata": {
  "kernelspec": {
   "display_name": "Python 3",
   "language": "python",
   "name": "python3"
  },
  "language_info": {
   "codemirror_mode": {
    "name": "ipython",
    "version": 3
   },
   "file_extension": ".py",
   "mimetype": "text/x-python",
   "name": "python",
   "nbconvert_exporter": "python",
   "pygments_lexer": "ipython3",
   "version": "3.9.10"
  }
 },
 "nbformat": 4,
 "nbformat_minor": 4
}
