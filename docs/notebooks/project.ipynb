{
 "cells": [
  {
   "cell_type": "markdown",
   "id": "5de3cfae-cbea-45c5-a1dc-167c7d6f5e37",
   "metadata": {},
   "source": [
    "# Project"
   ]
  },
  {
   "cell_type": "code",
   "execution_count": 8,
   "id": "6bd9b5db-2755-4265-acf9-21be1a20ab81",
   "metadata": {},
   "outputs": [
    {
     "name": "stdout",
     "output_type": "stream",
     "text": [
      "No Build Alternative\n",
      "Alternative 1\n",
      "Alternative 2\n"
     ]
    }
   ],
   "source": [
    "from dpd.project import Alternative, Project\n",
    "\n",
    "project = Project()\n",
    "for name in [\"No Build Alternative\", \"Alternative 1\", \"Alternative 2\"]:\n",
    "    project.add_alternative(Alternative(name))\n",
    "\n",
    "for alternative in project.alternatives:\n",
    "    print(alternative)"
   ]
  },
  {
   "cell_type": "code",
   "execution_count": null,
   "id": "84c9b205-1b9f-4329-9fee-265fcc80b6e8",
   "metadata": {},
   "outputs": [],
   "source": []
  }
 ],
 "metadata": {
  "kernelspec": {
   "display_name": "Python 3",
   "language": "python",
   "name": "python3"
  },
  "language_info": {
   "codemirror_mode": {
    "name": "ipython",
    "version": 3
   },
   "file_extension": ".py",
   "mimetype": "text/x-python",
   "name": "python",
   "nbconvert_exporter": "python",
   "pygments_lexer": "ipython3",
   "version": "3.9.10"
  }
 },
 "nbformat": 4,
 "nbformat_minor": 5
}
