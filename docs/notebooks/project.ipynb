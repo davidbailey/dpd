{
 "cells": [
  {
   "cell_type": "markdown",
   "id": "5de3cfae-cbea-45c5-a1dc-167c7d6f5e37",
   "metadata": {},
   "source": [
    "# Project"
   ]
  },
  {
   "cell_type": "code",
   "execution_count": 1,
   "id": "6bd9b5db-2755-4265-acf9-21be1a20ab81",
   "metadata": {},
   "outputs": [],
   "source": [
    "from dpd.project import Project\n",
    "\n",
    "project = Project()\n",
    "\n",
    "project.environmental_impact_document"
   ]
  }
 ],
 "metadata": {
  "kernelspec": {
   "display_name": "Python 3",
   "language": "python",
   "name": "python3"
  },
  "language_info": {
   "codemirror_mode": {
    "name": "ipython",
    "version": 3
   },
   "file_extension": ".py",
   "mimetype": "text/x-python",
   "name": "python",
   "nbconvert_exporter": "python",
   "pygments_lexer": "ipython3",
   "version": "3.9.10"
  }
 },
 "nbformat": 4,
 "nbformat_minor": 5
}
