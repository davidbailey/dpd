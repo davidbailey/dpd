{
 "cells": [
  {
   "cell_type": "markdown",
   "metadata": {
    "tags": []
   },
   "source": [
    "# Density and public transportation"
   ]
  },
  {
   "cell_type": "markdown",
   "metadata": {},
   "source": [
    "Sufficient population and job density are important for a public transportation system. Therefore plotting densities and public transportation systems on the same map can reveal opportuntities to build more public transportation lines (where density is high, but there are no existing lines) and to build more housing/jobs (where public transportation lines exist, but densities are low).\n",
    "\n",
    "First, let's create a map of population density. In the United States, we can get this geo-tagged population data from the United States Census Bureau. dpd.modeling has a class Zones to store this data and a method to automatically pull this data from the United States Census Bureau."
   ]
  },
  {
   "cell_type": "markdown",
   "metadata": {},
   "source": [
    "First, we'll define the counties that we are interested in mapping and the latest year for US Census data."
   ]
  },
  {
   "cell_type": "markdown",
   "metadata": {},
   "source": [
    "States seems to be the best level to get data for. If we get data by county, there are lots of requests so it takes too long. However, data for the whole country is unnecessary. The government assigns a number to each state so California is 06."
   ]
  },
  {
   "cell_type": "markdown",
   "metadata": {},
   "source": [
    "Now we can get the census data for California. B01003_001E is the population in each census tract."
   ]
  },
  {
   "cell_type": "markdown",
   "metadata": {},
   "source": [
    "Next we compute density as population per area."
   ]
  },
  {
   "cell_type": "markdown",
   "metadata": {},
   "source": [
    "And we filter for the counties we listed above. This way we can change our filter below and not have to redownload all the data."
   ]
  },
  {
   "cell_type": "markdown",
   "metadata": {},
   "source": [
    "Now we download our public transportation systems so we can plot the lines."
   ]
  },
  {
   "cell_type": "markdown",
   "metadata": {},
   "source": [
    "And finally we plot everything. (Image omitted to reduce file size.)"
   ]
  },
  {
   "cell_type": "markdown",
   "metadata": {},
   "source": [
    "Now, it would be helpful to do the same exercise with job densiites. However, the US Census Bureau does not provide this information (\"Worker Population\": \"B08604_001E\") at the tract level like they do for population. This leaves us with two options which both require large downloads.\n",
    "\n",
    "1. We can download zip code worker populations.\n",
    "2. Or we can download LODES data which includes origin-destination information.\n",
    "\n",
    "We'll take a look at option 2 below. The LODES data is divided into three files: residential data, work data, and origin-destination data. There is also a cross-walk file that includes a translation from LODES GEOIDs to census tracts."
   ]
  },
  {
   "cell_type": "markdown",
   "metadata": {},
   "source": [
    "We can then combine the LODES data with our original output DataFrame (which includes the geometry) to add a job_density column."
   ]
  },
  {
   "cell_type": "markdown",
   "metadata": {},
   "source": [
    "And we can plot the job density like we ploted the population density above."
   ]
  },
  {
   "cell_type": "markdown",
   "metadata": {},
   "source": [
    "Last, we can evaluate the sum of population density and job density. This sum gives the best measure of the number of potential public transportation users in each census tract."
   ]
  },
  {
   "cell_type": "code",
   "execution_count": null,
   "metadata": {},
   "outputs": [],
   "source": [
    "import us\n",
    "import ipywidgets as widgets\n",
    "from IPython.display import display"
   ]
  },
  {
   "cell_type": "code",
   "execution_count": null,
   "metadata": {},
   "outputs": [],
   "source": [
    "YEAR = \"2017\"\n",
    "\n",
    "state = widgets.Select(\n",
    "    options=list(map(lambda x: x.name, us.STATES)),\n",
    "    description=\"State\",\n",
    "    value=\"California\",\n",
    ")\n",
    "display(state)"
   ]
  },
  {
   "cell_type": "code",
   "execution_count": null,
   "metadata": {},
   "outputs": [],
   "source": [
    "from dpd.modeling import Zones\n",
    "\n",
    "zones = Zones.from_uscensus(str(us.states.lookup(state.value).fips), YEAR)"
   ]
  },
  {
   "cell_type": "code",
   "execution_count": null,
   "metadata": {},
   "outputs": [],
   "source": [
    "zones[\"geometry\"] = zones[\"geometry\"].apply(lambda x: x.simplify(0.001))"
   ]
  },
  {
   "cell_type": "code",
   "execution_count": null,
   "metadata": {},
   "outputs": [],
   "source": [
    "zones.head(1)"
   ]
  },
  {
   "cell_type": "code",
   "execution_count": null,
   "metadata": {},
   "outputs": [],
   "source": [
    "# zones.explore(column=\"ProductionAttractionSum Density\")"
   ]
  },
  {
   "cell_type": "code",
   "execution_count": null,
   "metadata": {
    "scrolled": true
   },
   "outputs": [],
   "source": [
    "from tobler.util import h3fy\n",
    "from tobler.area_weighted import area_interpolate\n",
    "from pyproj import CRS\n",
    "\n",
    "aea = CRS.from_string(\"North America Albers Equal Area Conic\")\n",
    "zones.to_crs(aea)\n",
    "h3_zones = h3fy(zones, buffer=True)\n",
    "\n",
    "dc_hex_interpolated = area_interpolate(\n",
    "    source_df=zones,\n",
    "    target_df=h3_zones,\n",
    "    intensive_variables=[\"Production\", \"Attraction\", \"ALAND\"],\n",
    ")\n",
    "dc_hex_interpolated.head()"
   ]
  },
  {
   "cell_type": "code",
   "execution_count": null,
   "metadata": {},
   "outputs": [],
   "source": []
  },
  {
   "cell_type": "code",
   "execution_count": null,
   "metadata": {},
   "outputs": [],
   "source": [
    "# Zones(dc_hex_interpolated).explore(column=\"ProductionAttractionSum Density\")"
   ]
  },
  {
   "cell_type": "code",
   "execution_count": null,
   "metadata": {},
   "outputs": [],
   "source": [
    "h3_zones = h3fy(zones, resolution=8, buffer=True)\n",
    "\n",
    "gdf = area_interpolate(\n",
    "    source_df=zones,\n",
    "    target_df=h3_zones,\n",
    "    intensive_variables=[\"Production\", \"Attraction\", \"ALAND\"],\n",
    ")\n",
    "gdf = Zones(gdf)\n",
    "gdf.head()"
   ]
  },
  {
   "cell_type": "code",
   "execution_count": null,
   "metadata": {},
   "outputs": [],
   "source": [
    "from lonboard import Map, HeatmapLayer, SolidPolygonLayer\n",
    "from lonboard.colormap import apply_continuous_cmap\n",
    "from palettable.matplotlib import Viridis_20\n",
    "\n",
    "layer = SolidPolygonLayer.from_geopandas(gdf, opacity=0.2)\n",
    "df = gdf[\"ProductionAttractionSum Density\"]\n",
    "normalized_df = (df - df.min()) / (df.max() - df.min())\n",
    "\n",
    "layer.get_fill_color = apply_continuous_cmap(normalized_df, Viridis_20)\n",
    "\n",
    "m = Map(layers=[layer])\n",
    "m"
   ]
  },
  {
   "cell_type": "code",
   "execution_count": null,
   "metadata": {},
   "outputs": [],
   "source": []
  },
  {
   "cell_type": "code",
   "execution_count": null,
   "metadata": {
    "tags": []
   },
   "outputs": [],
   "source": [
    "from dpd.driving.network import Network\n",
    "\n",
    "query = \"\"\"\n",
    "[out:json][timeout:25];\n",
    "(\n",
    "  relation[\"network\"=\"Metro Rail\"];\n",
    "\n",
    ");\n",
    "out body;\n",
    ">;\n",
    "out skel qt;\n",
    "\"\"\"\n",
    "\n",
    "network = Network.from_osm_query(query)"
   ]
  },
  {
   "cell_type": "code",
   "execution_count": null,
   "metadata": {},
   "outputs": [],
   "source": []
  },
  {
   "cell_type": "code",
   "execution_count": null,
   "metadata": {},
   "outputs": [],
   "source": []
  },
  {
   "cell_type": "code",
   "execution_count": null,
   "metadata": {},
   "outputs": [],
   "source": [
    "import folium\n",
    "\n",
    "folium_map = folium.Map()\n",
    "zones.explore(m=folium_map, column=\"ProductionAttractionSum Density\")\n",
    "for route in network.routes:\n",
    "    network.routes[route].explore(m=folium_map)\n",
    "\n",
    "# folium_map"
   ]
  },
  {
   "cell_type": "code",
   "execution_count": null,
   "metadata": {},
   "outputs": [],
   "source": [
    "import gtfs_kit\n",
    "\n",
    "feed = gtfs_kit.read_feed(\n",
    "    # \"http://www.bart.gov/dev/schedules/google_transit.zip\", dist_units=\"mi\"\n",
    "    \"https://gtfs.sfmta.com/transitdata/google_transit.zip\",\n",
    "    dist_units=\"mi\",\n",
    ")"
   ]
  },
  {
   "cell_type": "code",
   "execution_count": null,
   "metadata": {},
   "outputs": [],
   "source": [
    "feed.routes"
   ]
  },
  {
   "cell_type": "code",
   "execution_count": null,
   "metadata": {},
   "outputs": [],
   "source": [
    "from dpd.driving import Network\n",
    "\n",
    "network = Network.from_gtfs(feed)"
   ]
  },
  {
   "cell_type": "code",
   "execution_count": null,
   "metadata": {},
   "outputs": [],
   "source": [
    "from dpd.modeling import TripDataFrame"
   ]
  },
  {
   "cell_type": "code",
   "execution_count": null,
   "metadata": {},
   "outputs": [],
   "source": [
    "od = TripDataFrame.from_lodes(us.states.lookup(state.value).abbr.lower(), YEAR)"
   ]
  },
  {
   "cell_type": "code",
   "execution_count": null,
   "metadata": {},
   "outputs": [],
   "source": [
    "od.head()"
   ]
  },
  {
   "cell_type": "code",
   "execution_count": null,
   "metadata": {
    "tags": []
   },
   "outputs": [],
   "source": [
    "zones = zones.production_attraction_from_lodes(od)"
   ]
  },
  {
   "cell_type": "code",
   "execution_count": null,
   "metadata": {},
   "outputs": [],
   "source": []
  },
  {
   "cell_type": "code",
   "execution_count": null,
   "metadata": {},
   "outputs": [],
   "source": [
    "h3_zones = h3fy(zones, resolution=8, buffer=True)\n",
    "\n",
    "gdf = area_interpolate(\n",
    "    source_df=zones,\n",
    "    target_df=h3_zones,\n",
    "    intensive_variables=[\"Production\", \"Attraction\", \"ALAND\"],\n",
    ")\n",
    "gdf = Zones(gdf)\n",
    "gdf.head()"
   ]
  },
  {
   "cell_type": "code",
   "execution_count": null,
   "metadata": {},
   "outputs": [],
   "source": [
    "network.routes[\"1\"]"
   ]
  },
  {
   "cell_type": "code",
   "execution_count": null,
   "metadata": {},
   "outputs": [],
   "source": [
    "from lonboard import Map, PathLayer, ScatterplotLayer\n",
    "from lonboard.colormap import apply_continuous_cmap\n",
    "from palettable.matplotlib import Viridis_20\n",
    "\n",
    "layer = SolidPolygonLayer.from_geopandas(gdf, opacity=0.2)\n",
    "df = gdf[\"ProductionAttractionSum Density\"]\n",
    "normalized_df = (df - df.min()) / (df.max() - df.min())\n",
    "\n",
    "layer.get_fill_color = apply_continuous_cmap(normalized_df, Viridis_20)\n",
    "layers = [layer]\n",
    "for route in network.routes:\n",
    "    layers.append(\n",
    "        ScatterplotLayer.from_geopandas(network.routes[route], radius_min_pixels=1)\n",
    "    )\n",
    "m = Map(layers=layers)\n",
    "m"
   ]
  },
  {
   "cell_type": "code",
   "execution_count": null,
   "metadata": {},
   "outputs": [],
   "source": [
    "from astropy import units\n",
    "from dpd.driving import Route\n",
    "\n",
    "route = Route.from_osm_relation(relation=2351006)"
   ]
  },
  {
   "cell_type": "code",
   "execution_count": null,
   "metadata": {},
   "outputs": [],
   "source": []
  },
  {
   "cell_type": "code",
   "execution_count": null,
   "metadata": {},
   "outputs": [],
   "source": [
    "from dpd.modeling import DistanceDataFrame\n",
    "\n",
    "zones.to_crs(\"North_America_Albers_Equal_Area_Conic\", inplace=True)\n",
    "points = zones.polygons_to_points()\n",
    "stops = route.stops.to_crs(\"North_America_Albers_Equal_Area_Conic\")\n",
    "distance_dataframe = DistanceDataFrame.from_origins_destinations(\n",
    "    points.geometry, stops.geometry, method=\"distance\"\n",
    ")"
   ]
  },
  {
   "cell_type": "code",
   "execution_count": null,
   "metadata": {},
   "outputs": [],
   "source": [
    "points"
   ]
  },
  {
   "cell_type": "code",
   "execution_count": null,
   "metadata": {},
   "outputs": [],
   "source": [
    "distance_dataframe.columns = stops.name\n",
    "distance_dataframe"
   ]
  },
  {
   "cell_type": "code",
   "execution_count": null,
   "metadata": {},
   "outputs": [],
   "source": [
    "times = [5, 10, 15]\n",
    "data = []\n",
    "for column in distance_dataframe.columns:\n",
    "    row = []\n",
    "    for time in times:\n",
    "        # 1.35 meters/second and 60 seconds per minute\n",
    "        row.append(\n",
    "            points[(distance_dataframe / 1.35 < time * 60)[column]][\n",
    "                \"ProductionAttractionSum\"\n",
    "            ].sum()\n",
    "        )\n",
    "    data.append(row)"
   ]
  },
  {
   "cell_type": "code",
   "execution_count": null,
   "metadata": {},
   "outputs": [],
   "source": [
    "from pandas import DataFrame\n",
    "\n",
    "DataFrame(data=data, index=distance_dataframe.columns, columns=times).plot(kind=\"bar\")"
   ]
  },
  {
   "cell_type": "code",
   "execution_count": null,
   "metadata": {},
   "outputs": [],
   "source": [
    "from matplotlib import pyplot as plt\n",
    "\n",
    "fig, ax = plt.subplots()\n",
    "(distance_dataframe / 1.35).hist(\n",
    "    weights=points[\"ProductionAttractionSum\"],\n",
    "    range=(0, 900),\n",
    "    bins=30,\n",
    "    cumulative=True,\n",
    "    sharey=True,\n",
    "    ax=ax,\n",
    ")\n",
    "ax.set_ylabel(\"Population (cumulative)\")\n",
    "ax.set_xlabel(\"Time (seconds)\")"
   ]
  },
  {
   "cell_type": "code",
   "execution_count": null,
   "metadata": {},
   "outputs": [],
   "source": []
  },
  {
   "cell_type": "code",
   "execution_count": null,
   "metadata": {},
   "outputs": [],
   "source": []
  }
 ],
 "metadata": {
  "kernelspec": {
   "display_name": "Python 3 (ipykernel)",
   "language": "python",
   "name": "python3"
  },
  "language_info": {
   "codemirror_mode": {
    "name": "ipython",
    "version": 3
   },
   "file_extension": ".py",
   "mimetype": "text/x-python",
   "name": "python",
   "nbconvert_exporter": "python",
   "pygments_lexer": "ipython3",
   "version": "3.11.5"
  }
 },
 "nbformat": 4,
 "nbformat_minor": 4
}
