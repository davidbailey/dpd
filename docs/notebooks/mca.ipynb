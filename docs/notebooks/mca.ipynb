{
 "cells": [
  {
   "cell_type": "markdown",
   "metadata": {},
   "source": [
    "# Multiple-criteria Analysis"
   ]
  },
  {
   "cell_type": "code",
   "execution_count": 1,
   "metadata": {},
   "outputs": [],
   "source": [
    "from dpd.mca import MultipleCriteriaAnalysis\n",
    "from dpd.d3 import radar_chart\n",
    "from IPython.core.display import HTML"
   ]
  },
  {
   "cell_type": "code",
   "execution_count": 2,
   "metadata": {},
   "outputs": [
    {
     "data": {
      "text/html": [
       "\n",
       "    <script src=\"https://d3js.org/d3.v3.min.js\"></script>\n",
       "    <script src=\"https://cdn.jsdelivr.net/gh/davidbailey/dpd@master/js/RadarChart.js\"></script>\n",
       "    <div id=\"body\">\n",
       "        <div id=\"chart\"></div>\n",
       "    </div>\n",
       "    <script>\n",
       "        var w = 500, h = 500;\n",
       "        var colorscale = d3.scale.category10();\n",
       "        var LegendOptions = [\"Tram\", \"Bus\"];\n",
       "        var d = [[{\"axis\": \"Cost\", \"value\": 0.6666666666666666}, {\"axis\": \"Time\", \"value\": 0.3333333333333333}, {\"axis\": \"Comfort\", \"value\": 0.6153846153846154}], [{\"axis\": \"Cost\", \"value\": 0.3333333333333333}, {\"axis\": \"Time\", \"value\": 0.6666666666666666}, {\"axis\": \"Comfort\", \"value\": 0.38461538461538464}]];\n",
       "\n",
       "        RadarChart.draw(\"#chart\", d);\n",
       "\n",
       "        var svg = d3.select('#body')\n",
       "            .selectAll('svg')\n",
       "            .append('svg')\n",
       "            .attr(\"width\", w+300)\n",
       "            .attr(\"height\", h)\n",
       "        var text = svg.append(\"text\")\n",
       "            .attr(\"class\", \"title\")\n",
       "            .attr('transform', 'translate(90,0)')\n",
       "            .attr(\"x\", w - 70)\n",
       "            .attr(\"y\", 10)\n",
       "            .attr(\"font-size\", \"12px\")\n",
       "            .attr(\"fill\", \"#404040\")\n",
       "            .text(\"Alternative\");\n",
       "        var legend = svg.append(\"g\")\n",
       "            .attr(\"class\", \"legend\")\n",
       "            .attr(\"height\", 100)\n",
       "            .attr(\"width\", 200)\n",
       "            .attr('transform', 'translate(90,20)');\n",
       "        legend.selectAll('rect')\n",
       "            .data(LegendOptions)\n",
       "            .enter()\n",
       "            .append(\"rect\")\n",
       "            .attr(\"x\", w - 65)\n",
       "            .attr(\"y\", function(d, i){ return i * 20;})\n",
       "            .attr(\"width\", 10)\n",
       "            .attr(\"height\", 10)\n",
       "            .style(\"fill\", function(d, i){ return colorscale(i);});\n",
       "        legend.selectAll('text')\n",
       "            .data(LegendOptions)\n",
       "            .enter()\n",
       "            .append(\"text\")\n",
       "            .attr(\"x\", w - 52)\n",
       "            .attr(\"y\", function(d, i){ return i * 20 + 9;})\n",
       "            .attr(\"font-size\", \"11px\")\n",
       "            .attr(\"fill\", \"#737373\")\n",
       "            .text(function(d) { return d; });\n",
       "    </script>\n",
       "    "
      ],
      "text/plain": [
       "<IPython.core.display.HTML object>"
      ]
     },
     "execution_count": 2,
     "metadata": {},
     "output_type": "execute_result"
    }
   ],
   "source": [
    "attributes = [\"Cost\", \"Time\", \"Comfort\"]\n",
    "alternatives = [\"Tram\", \"Bus\"]\n",
    "\n",
    "mca = MultipleCriteriaAnalysis(attributes, alternatives)\n",
    "mca.mca[\"Tram\"][\"Cost\"] = 200\n",
    "mca.mca[\"Bus\"][\"Cost\"] = 100\n",
    "mca.mca[\"Tram\"][\"Time\"] = 50\n",
    "mca.mca[\"Bus\"][\"Time\"] = 100\n",
    "mca.mca[\"Tram\"][\"Comfort\"] = 800\n",
    "mca.mca[\"Bus\"][\"Comfort\"] = 500\n",
    "\n",
    "legend_options, d, title = mca.to_d3_radar_chart()\n",
    "HTML(radar_chart(legend_options, d, title))"
   ]
  },
  {
   "cell_type": "code",
   "execution_count": null,
   "metadata": {},
   "outputs": [],
   "source": []
  },
  {
   "cell_type": "code",
   "execution_count": null,
   "metadata": {},
   "outputs": [],
   "source": []
  }
 ],
 "metadata": {
  "kernelspec": {
   "display_name": "Python 3",
   "language": "python",
   "name": "python3"
  },
  "language_info": {
   "codemirror_mode": {
    "name": "ipython",
    "version": 3
   },
   "file_extension": ".py",
   "mimetype": "text/x-python",
   "name": "python",
   "nbconvert_exporter": "python",
   "pygments_lexer": "ipython3",
   "version": "3.7.5"
  }
 },
 "nbformat": 4,
 "nbformat_minor": 4
}
