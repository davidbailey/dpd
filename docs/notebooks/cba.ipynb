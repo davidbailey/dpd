{
 "cells": [
  {
   "cell_type": "markdown",
   "metadata": {},
   "source": [
    "# Cost-benefit Analysis"
   ]
  },
  {
   "cell_type": "code",
   "execution_count": 1,
   "metadata": {},
   "outputs": [],
   "source": [
    "from dpd.cba import CostBenefitAnalysis"
   ]
  },
  {
   "cell_type": "code",
   "execution_count": 2,
   "metadata": {},
   "outputs": [],
   "source": [
    "discount_rate=.03\n",
    "start_year=2017\n",
    "duration=3 # years"
   ]
  },
  {
   "cell_type": "code",
   "execution_count": 4,
   "metadata": {},
   "outputs": [
    {
     "name": "stdout",
     "output_type": "stream",
     "text": [
      "Benefit-cost ratio:  1.9417475728155342\n"
     ]
    },
    {
     "data": {
      "text/html": [
       "<div>\n",
       "<style scoped>\n",
       "    .dataframe tbody tr th:only-of-type {\n",
       "        vertical-align: middle;\n",
       "    }\n",
       "\n",
       "    .dataframe tbody tr th {\n",
       "        vertical-align: top;\n",
       "    }\n",
       "\n",
       "    .dataframe thead th {\n",
       "        text-align: right;\n",
       "    }\n",
       "</style>\n",
       "<table border=\"1\" class=\"dataframe\">\n",
       "  <thead>\n",
       "    <tr style=\"text-align: right;\">\n",
       "      <th></th>\n",
       "      <th>2017</th>\n",
       "      <th>2018</th>\n",
       "      <th>2019</th>\n",
       "      <th>Sum</th>\n",
       "    </tr>\n",
       "  </thead>\n",
       "  <tbody>\n",
       "    <tr>\n",
       "      <th>cost 1</th>\n",
       "      <td>10.0</td>\n",
       "      <td>9.708738</td>\n",
       "      <td>0.000000</td>\n",
       "      <td>19.708738</td>\n",
       "    </tr>\n",
       "    <tr>\n",
       "      <th>cost 2</th>\n",
       "      <td>10.0</td>\n",
       "      <td>9.708738</td>\n",
       "      <td>0.000000</td>\n",
       "      <td>19.708738</td>\n",
       "    </tr>\n",
       "    <tr>\n",
       "      <th>Costs Total</th>\n",
       "      <td>20.0</td>\n",
       "      <td>19.417476</td>\n",
       "      <td>0.000000</td>\n",
       "      <td>39.417476</td>\n",
       "    </tr>\n",
       "    <tr>\n",
       "      <th>benefit 1</th>\n",
       "      <td>0.0</td>\n",
       "      <td>19.417476</td>\n",
       "      <td>18.851918</td>\n",
       "      <td>38.269394</td>\n",
       "    </tr>\n",
       "    <tr>\n",
       "      <th>benefit 2</th>\n",
       "      <td>0.0</td>\n",
       "      <td>19.417476</td>\n",
       "      <td>18.851918</td>\n",
       "      <td>38.269394</td>\n",
       "    </tr>\n",
       "    <tr>\n",
       "      <th>Benefits Total</th>\n",
       "      <td>0.0</td>\n",
       "      <td>38.834951</td>\n",
       "      <td>37.703836</td>\n",
       "      <td>76.538788</td>\n",
       "    </tr>\n",
       "    <tr>\n",
       "      <th>Benefits - Costs Total</th>\n",
       "      <td>-20.0</td>\n",
       "      <td>19.417476</td>\n",
       "      <td>37.703836</td>\n",
       "      <td>37.121312</td>\n",
       "    </tr>\n",
       "  </tbody>\n",
       "</table>\n",
       "</div>"
      ],
      "text/plain": [
       "                        2017       2018       2019        Sum\n",
       "cost 1                  10.0   9.708738   0.000000  19.708738\n",
       "cost 2                  10.0   9.708738   0.000000  19.708738\n",
       "Costs Total             20.0  19.417476   0.000000  39.417476\n",
       "benefit 1                0.0  19.417476  18.851918  38.269394\n",
       "benefit 2                0.0  19.417476  18.851918  38.269394\n",
       "Benefits Total           0.0  38.834951  37.703836  76.538788\n",
       "Benefits - Costs Total -20.0  19.417476  37.703836  37.121312"
      ]
     },
     "execution_count": 4,
     "metadata": {},
     "output_type": "execute_result"
    }
   ],
   "source": [
    "cba = CostBenefitAnalysis(start_year=start_year, duration=duration)\n",
    "cba.add_cost(name='cost 1', value=10, start_year=start_year, duration=2)\n",
    "cba.add_cost(name='cost 2', value=10, start_year=start_year, duration=2)\n",
    "cba.add_benefit(name='benefit 1', value=20, start_year=start_year + 1, duration=2)\n",
    "cba.add_benefit(name='benefit 2', value=20, start_year=start_year + 1, duration=2)\n",
    "\n",
    "# cba_table = cba.to_dataframe().T # in year of expenditure \n",
    "cba_table = cba.discount(start_year, discount_rate).T\n",
    "print('Benefit-cost ratio: ', cba_table['Sum']['Benefits Total'] / cba_table['Sum']['Costs Total'])\n",
    "cba_table"
   ]
  },
  {
   "cell_type": "code",
   "execution_count": null,
   "metadata": {},
   "outputs": [],
   "source": []
  }
 ],
 "metadata": {
  "kernelspec": {
   "display_name": "Python 3",
   "language": "python",
   "name": "python3"
  },
  "language_info": {
   "codemirror_mode": {
    "name": "ipython",
    "version": 3
   },
   "file_extension": ".py",
   "mimetype": "text/x-python",
   "name": "python",
   "nbconvert_exporter": "python",
   "pygments_lexer": "ipython3",
   "version": "3.7.5"
  }
 },
 "nbformat": 4,
 "nbformat_minor": 2
}
