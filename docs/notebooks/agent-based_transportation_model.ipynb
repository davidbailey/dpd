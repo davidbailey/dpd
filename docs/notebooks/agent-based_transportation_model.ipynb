{
 "cells": [
  {
   "cell_type": "markdown",
   "metadata": {},
   "source": [
    "# Agent-based Transportation Model"
   ]
  },
  {
   "cell_type": "code",
   "execution_count": null,
   "metadata": {
    "tags": []
   },
   "outputs": [
    {
     "name": "stderr",
     "output_type": "stream",
     "text": [
      "/Users/dbawssec/Library/Python/3.9/lib/python/site-packages/geopandas/_compat.py:106: UserWarning: The Shapely GEOS version (3.8.0-CAPI-1.13.1 ) is incompatible with the GEOS version PyGEOS was compiled with (3.9.0-CAPI-1.16.2). Conversions between both will be slow.\n",
      "  warnings.warn(\n"
     ]
    }
   ],
   "source": [
    "import logging\n",
    "import ssl; ssl._create_default_https_context = ssl._create_stdlib_context\n",
    "\n",
    "from astropy import units\n",
    "from pyrosm.data import sources\n",
    "import ipywidgets as widgets\n",
    "from IPython.display import display\n",
    "\n",
    "from dpd.modeling import (\n",
    "    TransportationModel,\n",
    "    OriginDestinationDataFrame,\n",
    "    Zones,\n",
    "    ABTMMap,\n",
    ")\n",
    "from dpd.osm import OSMMap\n",
    "from dpd.osrm import OSRM\n",
    "\n",
    "logging.basicConfig(level=logging.INFO)"
   ]
  },
  {
   "cell_type": "code",
   "execution_count": null,
   "metadata": {},
   "outputs": [],
   "source": [
    "region = widgets.Select(\n",
    "    options=list(\n",
    "        map(\n",
    "            lambda x: x.replace(\"_\", \" \").title().replace(\"Of\", \"of\"),\n",
    "            sources.available[\"subregions\"][\"usa\"],\n",
    "        )\n",
    "    ),\n",
    "    description=\"Region\",\n",
    "    rows=10,\n",
    "    value=\"District of Columbia\"\n",
    ")\n",
    "display(region)"
   ]
  },
  {
   "cell_type": "code",
   "execution_count": null,
   "metadata": {
    "tags": []
   },
   "outputs": [],
   "source": [
    "osmmap = OSMMap(region.value)"
   ]
  },
  {
   "cell_type": "code",
   "execution_count": null,
   "metadata": {
    "tags": []
   },
   "outputs": [],
   "source": [
    "osmmap.plot_folium(filter_box=[-76.96, 39.02, -77.04, 38.96])"
   ]
  },
  {
   "cell_type": "markdown",
   "metadata": {},
   "source": [
    "This is what was done in peopleModel.py"
   ]
  },
  {
   "cell_type": "code",
   "execution_count": null,
   "metadata": {
    "tags": []
   },
   "outputs": [],
   "source": [
    "import us\n",
    "YEAR = \"2017\"\n",
    "\n",
    "zones = Zones.from_uscensus(str(us.states.lookup(region.value).fips), YEAR)\n",
    "od = OriginDestinationDataFrame(\n",
    "    OriginDestinationDataFrame.from_lodes(\n",
    "        us.states.lookup(region.value).abbr.lower(), YEAR\n",
    "    ).sample(100)\n",
    ")"
   ]
  },
  {
   "cell_type": "markdown",
   "metadata": {},
   "source": [
    "This is what was done in routeModel.py"
   ]
  },
  {
   "cell_type": "code",
   "execution_count": null,
   "metadata": {
    "tags": []
   },
   "outputs": [],
   "source": [
    "osrm = OSRM(\n",
    "    region=\"north-america/us/\"\n",
    "    + us.states.lookup(region.value).name.lower().replace(\" \", \"-\"),\n",
    "    profile_directory=\"/usr/local/Cellar/osrm-backend/5.24.0/share/osrm/profiles/\",\n",
    "    profile=\"car\",\n",
    ")\n",
    "p = osrm.routed()\n",
    "from time import sleep\n",
    "\n",
    "sleep(1)\n",
    "od.add_geometry_from_zones(zones)\n",
    "od.add_route_hw_from_osrm(url_base=\"http://localhost:5000\", mode=\"driving\")\n",
    "p.kill()"
   ]
  },
  {
   "cell_type": "code",
   "execution_count": null,
   "metadata": {
    "tags": []
   },
   "outputs": [],
   "source": [
    "model = TransportationModel()\n",
    "abtmosmmap = ABTMMap(model, osmmap)\n",
    "abtmosmmap.create_people_from_od(od.head(10))"
   ]
  },
  {
   "cell_type": "markdown",
   "metadata": {},
   "source": [
    "This is what was done in simulation.py"
   ]
  },
  {
   "cell_type": "code",
   "execution_count": null,
   "metadata": {
    "tags": []
   },
   "outputs": [],
   "source": [
    "trajectories = abtmosmmap.simulate()"
   ]
  },
  {
   "cell_type": "markdown",
   "metadata": {},
   "source": [
    "This is what was done in view.py"
   ]
  },
  {
   "cell_type": "code",
   "execution_count": null,
   "metadata": {
    "tags": []
   },
   "outputs": [],
   "source": [
    "#trajectories.add_speed()\n",
    "trajectories.hvplot(line_width=10)"
   ]
  },
  {
   "cell_type": "code",
   "execution_count": null,
   "metadata": {},
   "outputs": [],
   "source": [
    "import random\n",
    "\n",
    "def random_color():\n",
    "    return \"#\" + hex(random.randint(0, 0xFF))[2:] + hex(random.randint(0, 0xFF))[2:] + hex(random.randint(0, 0xFF))[2:]\n",
    "\n",
    "features = []\n",
    "for trajectory in trajectories.trajectories:\n",
    "    color = random_color()\n",
    "    df = trajectory.df.copy()\n",
    "    df[\"previous_geometry\"] = df[\"geometry\"].shift()\n",
    "    df[\"time\"] = df.index\n",
    "    df[\"previous_time\"] = df[\"time\"].shift()\n",
    "    for _, row in df.iloc[1:].iterrows():\n",
    "        coordinates = [\n",
    "            [\n",
    "                row[\"previous_geometry\"].xy[0][0],\n",
    "                row[\"previous_geometry\"].xy[1][0]\n",
    "            ],\n",
    "            [\n",
    "                row[\"geometry\"].xy[0][0],\n",
    "                row[\"geometry\"].xy[1][0]\n",
    "            ]\n",
    "        ]\n",
    "        times = [row[\"previous_time\"].isoformat(), row[\"time\"].isoformat()]\n",
    "        features.append(\n",
    "            {\n",
    "                \"type\": \"Feature\",\n",
    "                \"geometry\": {\n",
    "                    \"type\": \"LineString\",\n",
    "                    \"coordinates\": coordinates,\n",
    "                },\n",
    "                \"properties\": {\n",
    "                    \"times\": times,\n",
    "                    \"style\": {\n",
    "                        \"color\": color,\n",
    "                        \"weight\": 5,\n",
    "                    },\n",
    "                },\n",
    "            }\n",
    "        )\n",
    "\n",
    "import folium\n",
    "from folium.plugins import TimestampedGeoJson\n",
    "\n",
    "m = folium.Map(location=[38.913340600000055, -77.009092], zoom_start=16)\n",
    "\n",
    "TimestampedGeoJson(\n",
    "    {\n",
    "        \"type\": \"FeatureCollection\",\n",
    "        \"features\": features,\n",
    "    },\n",
    "    period=\"PT1S\",\n",
    "    add_last_point=True,\n",
    "    transition_time=1000\n",
    ").add_to(m)\n",
    "\n",
    "m"
   ]
  }
 ],
 "metadata": {
  "kernelspec": {
   "display_name": "Python 3",
   "language": "python",
   "name": "python3"
  },
  "language_info": {
   "codemirror_mode": {
    "name": "ipython",
    "version": 3
   },
   "file_extension": ".py",
   "mimetype": "text/x-python",
   "name": "python",
   "nbconvert_exporter": "python",
   "pygments_lexer": "ipython3",
   "version": "3.9.2"
  }
 },
 "nbformat": 4,
 "nbformat_minor": 4
}
