{
 "cells": [
  {
   "cell_type": "markdown",
   "metadata": {},
   "source": [
    "# Agent-based Transportation Model"
   ]
  },
  {
   "cell_type": "code",
   "execution_count": 2,
   "metadata": {
    "tags": []
   },
   "outputs": [],
   "source": [
    "import logging\n",
    "import ssl; ssl._create_default_https_context = ssl._create_stdlib_context\n",
    "\n",
    "from astropy import units\n",
    "from pyrosm.data import sources\n",
    "import ipywidgets as widgets\n",
    "from IPython.display import display\n",
    "\n",
    "from dpd.modeling import (\n",
    "    TransportationModel,\n",
    "    OriginDestinationDataFrame,\n",
    "    Zones,\n",
    "    ABTMMap,\n",
    ")\n",
    "from dpd.osm import OSMMap\n",
    "from dpd.osrm import OSRM\n",
    "\n",
    "logging.basicConfig(level=logging.INFO)"
   ]
  },
  {
   "cell_type": "code",
   "execution_count": 3,
   "metadata": {},
   "outputs": [
    {
     "data": {
      "application/vnd.jupyter.widget-view+json": {
       "model_id": "7040e4c6017441a582c07b7c2129dd2a",
       "version_major": 2,
       "version_minor": 0
      },
      "text/plain": [
       "Select(description='Region', index=7, options=('Alabama', 'Alaska', 'Arizona', 'Arkansas', 'Colorado', 'Connec…"
      ]
     },
     "metadata": {},
     "output_type": "display_data"
    }
   ],
   "source": [
    "region = widgets.Select(\n",
    "    options=list(\n",
    "        map(\n",
    "            lambda x: x.replace(\"_\", \" \").title().replace(\"Of\", \"of\"),\n",
    "            sources.available[\"subregions\"][\"usa\"],\n",
    "        )\n",
    "    ),\n",
    "    description=\"Region\",\n",
    "    rows=10,\n",
    "    value=\"District of Columbia\"\n",
    ")\n",
    "display(region)"
   ]
  },
  {
   "cell_type": "code",
   "execution_count": 4,
   "metadata": {
    "tags": []
   },
   "outputs": [
    {
     "name": "stderr",
     "output_type": "stream",
     "text": [
      "INFO:root:Building intersections...\n",
      "100%|██████████| 52089/52089 [00:01<00:00, 47886.48it/s]\n"
     ]
    },
    {
     "ename": "NameError",
     "evalue": "name 'GeographicDict' is not defined",
     "output_type": "error",
     "traceback": [
      "\u001b[0;31m---------------------------------------------------------------------------\u001b[0m",
      "\u001b[0;31mNameError\u001b[0m                                 Traceback (most recent call last)",
      "\u001b[0;32m<ipython-input-4-7b3944043b4c>\u001b[0m in \u001b[0;36m<module>\u001b[0;34m\u001b[0m\n\u001b[0;32m----> 1\u001b[0;31m \u001b[0mosmmap\u001b[0m \u001b[0;34m=\u001b[0m \u001b[0mOSMMap\u001b[0m\u001b[0;34m(\u001b[0m\u001b[0mregion\u001b[0m\u001b[0;34m.\u001b[0m\u001b[0mvalue\u001b[0m\u001b[0;34m)\u001b[0m\u001b[0;34m\u001b[0m\u001b[0;34m\u001b[0m\u001b[0m\n\u001b[0m",
      "\u001b[0;32m/usr/local/lib/python3.9/site-packages/dpd/osm/osmmap.py\u001b[0m in \u001b[0;36m__init__\u001b[0;34m(self, region)\u001b[0m\n\u001b[1;32m     37\u001b[0m         )  # Used to find traffic signals, all-way stops\n\u001b[1;32m     38\u001b[0m         \u001b[0mintersections\u001b[0m \u001b[0;34m=\u001b[0m \u001b[0mself\u001b[0m\u001b[0;34m.\u001b[0m\u001b[0mbuild_intersections\u001b[0m\u001b[0;34m(\u001b[0m\u001b[0;34m)\u001b[0m\u001b[0;34m\u001b[0m\u001b[0;34m\u001b[0m\u001b[0m\n\u001b[0;32m---> 39\u001b[0;31m         \u001b[0mself\u001b[0m\u001b[0;34m.\u001b[0m\u001b[0mintersections\u001b[0m \u001b[0;34m=\u001b[0m \u001b[0mGeographicDict\u001b[0m\u001b[0;34m(\u001b[0m\u001b[0mintersections\u001b[0m\u001b[0;34m)\u001b[0m\u001b[0;34m\u001b[0m\u001b[0;34m\u001b[0m\u001b[0m\n\u001b[0m\u001b[1;32m     40\u001b[0m         \u001b[0mself\u001b[0m\u001b[0;34m.\u001b[0m\u001b[0mintersections\u001b[0m\u001b[0;34m.\u001b[0m\u001b[0mcrs\u001b[0m \u001b[0;34m=\u001b[0m \u001b[0;34m\"EPSG:4326\"\u001b[0m\u001b[0;34m\u001b[0m\u001b[0;34m\u001b[0m\u001b[0m\n\u001b[1;32m     41\u001b[0m         \u001b[0mlinks\u001b[0m \u001b[0;34m=\u001b[0m \u001b[0mself\u001b[0m\u001b[0;34m.\u001b[0m\u001b[0mbuild_links\u001b[0m\u001b[0;34m(\u001b[0m\u001b[0;34m)\u001b[0m\u001b[0;34m\u001b[0m\u001b[0;34m\u001b[0m\u001b[0m\n",
      "\u001b[0;31mNameError\u001b[0m: name 'GeographicDict' is not defined"
     ]
    }
   ],
   "source": [
    "osmmap = OSMMap(region.value)"
   ]
  },
  {
   "cell_type": "code",
   "execution_count": null,
   "metadata": {},
   "outputs": [],
   "source": [
    "osmmap.transform_links_to_aea()"
   ]
  },
  {
   "cell_type": "code",
   "execution_count": null,
   "metadata": {},
   "outputs": [],
   "source": []
  },
  {
   "cell_type": "code",
   "execution_count": null,
   "metadata": {
    "tags": []
   },
   "outputs": [],
   "source": [
    "osmmap.plot_folium(filter_box=[-122.41, 37.79, -122.39, 37.78])"
   ]
  },
  {
   "cell_type": "markdown",
   "metadata": {},
   "source": [
    "This is what was done in peopleModel.py"
   ]
  },
  {
   "cell_type": "code",
   "execution_count": null,
   "metadata": {
    "tags": []
   },
   "outputs": [],
   "source": [
    "import us\n",
    "YEAR = \"2017\"\n",
    "\n",
    "zones = Zones.from_uscensus(str(us.states.lookup(region.value).fips), YEAR)\n",
    "od = OriginDestinationDataFrame(\n",
    "    OriginDestinationDataFrame.from_lodes(\n",
    "        us.states.lookup(region.value).abbr.lower(), YEAR\n",
    "    ).sample(100)\n",
    ")"
   ]
  },
  {
   "cell_type": "markdown",
   "metadata": {},
   "source": [
    "This is what was done in routeModel.py"
   ]
  },
  {
   "cell_type": "code",
   "execution_count": null,
   "metadata": {
    "tags": []
   },
   "outputs": [],
   "source": [
    "osrm = OSRM(\n",
    "    region=\"north-america/us/\"\n",
    "    + us.states.lookup(region.value).name.lower().replace(\" \", \"-\"),\n",
    "    profile_directory=\"/usr/local/Cellar/osrm-backend/5.24.0/share/osrm/profiles/\",\n",
    "    profile=\"car\",\n",
    ")\n",
    "p = osrm.routed()\n",
    "from time import sleep\n",
    "\n",
    "sleep(1)\n",
    "od.add_geometry_from_zones(zones)\n",
    "od.add_route_hw_from_osrm(url_base=\"http://localhost:5000\", mode=\"driving\")\n",
    "p.kill()"
   ]
  },
  {
   "cell_type": "code",
   "execution_count": null,
   "metadata": {
    "tags": []
   },
   "outputs": [],
   "source": [
    "model = TransportationModel()\n",
    "abtmosmmap = ABTMMap(model, osmmap)\n",
    "abtmosmmap.create_people_from_od(od.head(10))"
   ]
  },
  {
   "cell_type": "markdown",
   "metadata": {},
   "source": [
    "This is what was done in simulation.py"
   ]
  },
  {
   "cell_type": "code",
   "execution_count": null,
   "metadata": {
    "tags": []
   },
   "outputs": [],
   "source": [
    "trajectories = abtmosmmap.simulate()"
   ]
  },
  {
   "cell_type": "markdown",
   "metadata": {},
   "source": [
    "This is what was done in view.py"
   ]
  },
  {
   "cell_type": "code",
   "execution_count": null,
   "metadata": {
    "tags": []
   },
   "outputs": [],
   "source": [
    "#trajectories.add_speed()\n",
    "trajectories.hvplot(line_width=10)"
   ]
  },
  {
   "cell_type": "code",
   "execution_count": null,
   "metadata": {},
   "outputs": [],
   "source": [
    "import random\n",
    "\n",
    "def random_color():\n",
    "    return \"#\" + hex(random.randint(0, 0xFF))[2:] + hex(random.randint(0, 0xFF))[2:] + hex(random.randint(0, 0xFF))[2:]\n",
    "\n",
    "features = []\n",
    "for trajectory in trajectories.trajectories:\n",
    "    color = random_color()\n",
    "    df = trajectory.df.copy()\n",
    "    df[\"previous_geometry\"] = df[\"geometry\"].shift()\n",
    "    df[\"time\"] = df.index\n",
    "    df[\"previous_time\"] = df[\"time\"].shift()\n",
    "    for _, row in df.iloc[1:].iterrows():\n",
    "        coordinates = [\n",
    "            [\n",
    "                row[\"previous_geometry\"].xy[0][0],\n",
    "                row[\"previous_geometry\"].xy[1][0]\n",
    "            ],\n",
    "            [\n",
    "                row[\"geometry\"].xy[0][0],\n",
    "                row[\"geometry\"].xy[1][0]\n",
    "            ]\n",
    "        ]\n",
    "        times = [row[\"previous_time\"].isoformat(), row[\"time\"].isoformat()]\n",
    "        features.append(\n",
    "            {\n",
    "                \"type\": \"Feature\",\n",
    "                \"geometry\": {\n",
    "                    \"type\": \"LineString\",\n",
    "                    \"coordinates\": coordinates,\n",
    "                },\n",
    "                \"properties\": {\n",
    "                    \"times\": times,\n",
    "                    \"style\": {\n",
    "                        \"color\": color,\n",
    "                        \"weight\": 5,\n",
    "                    },\n",
    "                },\n",
    "            }\n",
    "        )\n",
    "\n",
    "import folium\n",
    "from folium.plugins import TimestampedGeoJson\n",
    "\n",
    "m = folium.Map(location=[38.913340600000055, -77.009092], zoom_start=16)\n",
    "\n",
    "TimestampedGeoJson(\n",
    "    {\n",
    "        \"type\": \"FeatureCollection\",\n",
    "        \"features\": features,\n",
    "    },\n",
    "    period=\"PT1S\",\n",
    "    add_last_point=True,\n",
    "    transition_time=1000\n",
    ").add_to(m)\n",
    "\n",
    "m"
   ]
  }
 ],
 "metadata": {
  "kernelspec": {
   "display_name": "Python 3",
   "language": "python",
   "name": "python3"
  },
  "language_info": {
   "codemirror_mode": {
    "name": "ipython",
    "version": 3
   },
   "file_extension": ".py",
   "mimetype": "text/x-python",
   "name": "python",
   "nbconvert_exporter": "python",
   "pygments_lexer": "ipython3",
   "version": "3.9.2"
  }
 },
 "nbformat": 4,
 "nbformat_minor": 4
}
