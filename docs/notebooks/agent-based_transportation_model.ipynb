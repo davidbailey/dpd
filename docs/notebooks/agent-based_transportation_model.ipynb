{
 "cells": [
  {
   "cell_type": "markdown",
   "metadata": {},
   "source": [
    "# Agent-based Transportation Model"
   ]
  },
  {
   "cell_type": "code",
   "execution_count": 1,
   "metadata": {},
   "outputs": [],
   "source": [
    "from mesa import Model\n",
    "from mesa.time import RandomActivation\n",
    "import requests\n",
    "\n",
    "from dpd.modeling import OriginDestinationDataFrame, PersonAgent, Vehicle, Zones\n",
    "from dpd.osrm import OSRM\n",
    "from dpd.shapely import random_point_in_polygon"
   ]
  },
  {
   "cell_type": "code",
   "execution_count": 2,
   "metadata": {},
   "outputs": [],
   "source": [
    "class TransportationModel(Model):\n",
    "    def __init__(self):\n",
    "        self.schedule = RandomActivation(self)\n",
    "\n",
    "    def step(self):\n",
    "        self.schedule.step()\n",
    "\n",
    "model = TransportationModel()"
   ]
  },
  {
   "cell_type": "markdown",
   "metadata": {},
   "source": [
    "This is what was done in peopleModel.py"
   ]
  },
  {
   "cell_type": "code",
   "execution_count": 3,
   "metadata": {},
   "outputs": [
    {
     "data": {
      "text/html": [
       "<div>\n",
       "<style scoped>\n",
       "    .dataframe tbody tr th:only-of-type {\n",
       "        vertical-align: middle;\n",
       "    }\n",
       "\n",
       "    .dataframe tbody tr th {\n",
       "        vertical-align: top;\n",
       "    }\n",
       "\n",
       "    .dataframe thead th {\n",
       "        text-align: right;\n",
       "    }\n",
       "</style>\n",
       "<table border=\"1\" class=\"dataframe\">\n",
       "  <thead>\n",
       "    <tr style=\"text-align: right;\">\n",
       "      <th></th>\n",
       "      <th>Name</th>\n",
       "      <th>Production</th>\n",
       "      <th>Attraction</th>\n",
       "      <th>state</th>\n",
       "      <th>county</th>\n",
       "      <th>tract</th>\n",
       "      <th>STATEFP</th>\n",
       "      <th>COUNTYFP</th>\n",
       "      <th>TRACTCE</th>\n",
       "      <th>NAME_y</th>\n",
       "      <th>NAMELSAD</th>\n",
       "      <th>MTFCC</th>\n",
       "      <th>FUNCSTAT</th>\n",
       "      <th>ALAND</th>\n",
       "      <th>AWATER</th>\n",
       "      <th>INTPTLAT</th>\n",
       "      <th>INTPTLON</th>\n",
       "      <th>geometry</th>\n",
       "      <th>centroid</th>\n",
       "    </tr>\n",
       "    <tr>\n",
       "      <th>GEOID</th>\n",
       "      <th></th>\n",
       "      <th></th>\n",
       "      <th></th>\n",
       "      <th></th>\n",
       "      <th></th>\n",
       "      <th></th>\n",
       "      <th></th>\n",
       "      <th></th>\n",
       "      <th></th>\n",
       "      <th></th>\n",
       "      <th></th>\n",
       "      <th></th>\n",
       "      <th></th>\n",
       "      <th></th>\n",
       "      <th></th>\n",
       "      <th></th>\n",
       "      <th></th>\n",
       "      <th></th>\n",
       "      <th></th>\n",
       "    </tr>\n",
       "  </thead>\n",
       "  <tbody>\n",
       "    <tr>\n",
       "      <th>35047957500</th>\n",
       "      <td>Census Tract 9575, San Miguel County, New Mexico</td>\n",
       "      <td>4117</td>\n",
       "      <td>None</td>\n",
       "      <td>35</td>\n",
       "      <td>047</td>\n",
       "      <td>957500</td>\n",
       "      <td>35</td>\n",
       "      <td>047</td>\n",
       "      <td>957500</td>\n",
       "      <td>9575</td>\n",
       "      <td>Census Tract 9575</td>\n",
       "      <td>G5020</td>\n",
       "      <td>S</td>\n",
       "      <td>9014844373</td>\n",
       "      <td>51188901</td>\n",
       "      <td>+35.5028648</td>\n",
       "      <td>-104.5780441</td>\n",
       "      <td>POLYGON ((-105.54769 35.78157, -105.54724 35.7...</td>\n",
       "      <td>POINT (35.502 -104.570)</td>\n",
       "    </tr>\n",
       "  </tbody>\n",
       "</table>\n",
       "</div>"
      ],
      "text/plain": [
       "                                                         Name Production  \\\n",
       "GEOID                                                                      \n",
       "35047957500  Census Tract 9575, San Miguel County, New Mexico       4117   \n",
       "\n",
       "            Attraction state county   tract STATEFP COUNTYFP TRACTCE NAME_y  \\\n",
       "GEOID                                                                         \n",
       "35047957500       None    35    047  957500      35      047  957500   9575   \n",
       "\n",
       "                      NAMELSAD  MTFCC FUNCSTAT       ALAND    AWATER  \\\n",
       "GEOID                                                                  \n",
       "35047957500  Census Tract 9575  G5020        S  9014844373  51188901   \n",
       "\n",
       "                INTPTLAT      INTPTLON  \\\n",
       "GEOID                                    \n",
       "35047957500  +35.5028648  -104.5780441   \n",
       "\n",
       "                                                      geometry  \\\n",
       "GEOID                                                            \n",
       "35047957500  POLYGON ((-105.54769 35.78157, -105.54724 35.7...   \n",
       "\n",
       "                            centroid  \n",
       "GEOID                                 \n",
       "35047957500  POINT (35.502 -104.570)  "
      ]
     },
     "execution_count": 3,
     "metadata": {},
     "output_type": "execute_result"
    }
   ],
   "source": [
    "zones = Zones.from_uscensus(\"35\", \"2017\")\n",
    "zones.calculate_centroids()\n",
    "zones.head(1)"
   ]
  },
  {
   "cell_type": "code",
   "execution_count": 4,
   "metadata": {},
   "outputs": [
    {
     "name": "stderr",
     "output_type": "stream",
     "text": [
      "/usr/local/lib/python3.7/site-packages/IPython/core/interactiveshell.py:3183: DtypeWarning: Columns (28,29,31,37,38) have mixed types.Specify dtype option on import or set low_memory=False.\n",
      "  if (yield from self.run_code(code, result)):\n"
     ]
    },
    {
     "data": {
      "text/html": [
       "<div>\n",
       "<style scoped>\n",
       "    .dataframe tbody tr th:only-of-type {\n",
       "        vertical-align: middle;\n",
       "    }\n",
       "\n",
       "    .dataframe tbody tr th {\n",
       "        vertical-align: top;\n",
       "    }\n",
       "\n",
       "    .dataframe thead th {\n",
       "        text-align: right;\n",
       "    }\n",
       "</style>\n",
       "<table border=\"1\" class=\"dataframe\">\n",
       "  <thead>\n",
       "    <tr style=\"text-align: right;\">\n",
       "      <th></th>\n",
       "      <th></th>\n",
       "      <th>w_geocode</th>\n",
       "      <th>h_geocode</th>\n",
       "      <th>S000</th>\n",
       "      <th>SA01</th>\n",
       "      <th>SA02</th>\n",
       "      <th>SA03</th>\n",
       "      <th>SE01</th>\n",
       "      <th>SE02</th>\n",
       "      <th>SE03</th>\n",
       "      <th>SI01</th>\n",
       "      <th>SI02</th>\n",
       "      <th>SI03</th>\n",
       "      <th>createdate</th>\n",
       "    </tr>\n",
       "    <tr>\n",
       "      <th>trct_w</th>\n",
       "      <th>trct_h</th>\n",
       "      <th></th>\n",
       "      <th></th>\n",
       "      <th></th>\n",
       "      <th></th>\n",
       "      <th></th>\n",
       "      <th></th>\n",
       "      <th></th>\n",
       "      <th></th>\n",
       "      <th></th>\n",
       "      <th></th>\n",
       "      <th></th>\n",
       "      <th></th>\n",
       "      <th></th>\n",
       "    </tr>\n",
       "  </thead>\n",
       "  <tbody>\n",
       "    <tr>\n",
       "      <th>35001004735</th>\n",
       "      <th>35001000502</th>\n",
       "      <td>350010047352000</td>\n",
       "      <td>350010005022015</td>\n",
       "      <td>1</td>\n",
       "      <td>0</td>\n",
       "      <td>0</td>\n",
       "      <td>1</td>\n",
       "      <td>1</td>\n",
       "      <td>0</td>\n",
       "      <td>0</td>\n",
       "      <td>0</td>\n",
       "      <td>1</td>\n",
       "      <td>0</td>\n",
       "      <td>20190825</td>\n",
       "    </tr>\n",
       "  </tbody>\n",
       "</table>\n",
       "</div>"
      ],
      "text/plain": [
       "                               w_geocode        h_geocode  S000  SA01  SA02  \\\n",
       "trct_w      trct_h                                                            \n",
       "35001004735 35001000502  350010047352000  350010005022015     1     0     0   \n",
       "\n",
       "                         SA03  SE01  SE02  SE03  SI01  SI02  SI03  createdate  \n",
       "trct_w      trct_h                                                             \n",
       "35001004735 35001000502     1     1     0     0     0     1     0    20190825  "
      ]
     },
     "execution_count": 4,
     "metadata": {},
     "output_type": "execute_result"
    }
   ],
   "source": [
    "od = OriginDestinationDataFrame.from_lodes(\"nm\", \"2017\").sample(10)\n",
    "od.head(1)"
   ]
  },
  {
   "cell_type": "markdown",
   "metadata": {},
   "source": [
    "This is what was done in routeModel.py"
   ]
  },
  {
   "cell_type": "code",
   "execution_count": 5,
   "metadata": {},
   "outputs": [],
   "source": [
    "url_base = \"http://localhost:5000\"\n",
    "osrm = OSRM(region=\"north-america/us/new-mexico\", profile=\"car\")\n",
    "p = osrm.routed()\n",
    "from time import sleep\n",
    "sleep(2)\n",
    "\n",
    "for index, row in od.iterrows():\n",
    "    for i in range(row[\"S000\"]):\n",
    "        person = PersonAgent(model=model)\n",
    "        model.schedule.add(person)\n",
    "        person.home = random_point_in_polygon(zones.loc[index[1]].geometry)\n",
    "        person.work = random_point_in_polygon(zones.loc[index[0]].geometry)\n",
    "        url = url_base + '/route/v1/driving/' + str(person.home.xy[0][0]) + ',' + str(person.home.xy[1][0]) + ';' + str(person.work.xy[0][0]) + ',' + str(person.work.xy[1][0])\n",
    "        r = requests.get(url)\n",
    "        person.route_geometry = r.json()['routes'][0]['geometry']\n",
    "\n",
    "p.kill()"
   ]
  },
  {
   "cell_type": "markdown",
   "metadata": {},
   "source": [
    "This is what was done in simulation.py"
   ]
  },
  {
   "cell_type": "code",
   "execution_count": 6,
   "metadata": {},
   "outputs": [],
   "source": [
    "for i in range(10):\n",
    "    model.step()"
   ]
  },
  {
   "cell_type": "code",
   "execution_count": null,
   "metadata": {},
   "outputs": [],
   "source": []
  },
  {
   "cell_type": "code",
   "execution_count": null,
   "metadata": {},
   "outputs": [],
   "source": []
  },
  {
   "cell_type": "code",
   "execution_count": null,
   "metadata": {},
   "outputs": [],
   "source": []
  },
  {
   "cell_type": "code",
   "execution_count": null,
   "metadata": {},
   "outputs": [],
   "source": []
  }
 ],
 "metadata": {
  "kernelspec": {
   "display_name": "Python 3",
   "language": "python",
   "name": "python3"
  },
  "language_info": {
   "codemirror_mode": {
    "name": "ipython",
    "version": 3
   },
   "file_extension": ".py",
   "mimetype": "text/x-python",
   "name": "python",
   "nbconvert_exporter": "python",
   "pygments_lexer": "ipython3",
   "version": "3.7.5"
  }
 },
 "nbformat": 4,
 "nbformat_minor": 4
}
